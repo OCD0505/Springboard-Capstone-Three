{
 "cells": [
  {
   "cell_type": "markdown",
   "id": "6a249fda",
   "metadata": {},
   "source": [
    "\n",
    "# 1 Data Wrangling <a id='1_Data_Wrangling'></a>\n",
    "---"
   ]
  },
  {
   "cell_type": "markdown",
   "id": "8a7b8232",
   "metadata": {},
   "source": [
    "## 1.1 Contents <a id='1.1_Contents'></a>\n",
    "- [1 Data Wrangling](#1_Data_Wrangling)\n",
    "    - [1.1 Contents](#1.1_Contents)\n",
    "    - [1.2 Introduction](#1.2_Introduction)\n",
    "    - [1.3 Importing](#1.3_Importing)\n",
    "    - [1.4 Loading The Data](#1.4_Loading_the_data)\n",
    "- [1.5 Cleaning/Preparation](#1.5_Preliminary_exploration)\n",
    "    - [1.5.1 Missing Values](#1.5.1_Missing_values)\n",
    "    - [1.5.2 Duplicate Values](#1.5.2_Duplicate_values)\n",
    "    - [1.5.3 Dropping Columns](#1.5.3_Dropping_columns)\n",
    "    - [1.5.4 Imputation](#1.5.4_Imputation)\n",
    "    - [1.5.5 Encoding](#1.5.5_Encoding)\n",
    "    - [1.5.6 Data Type Conversions](#1.5.5_Conversion)\n",
    "- [1.6 A Look Into Categorical Features](#1.6_Categorical_Features)\n",
    "- [1.7 A Look Into Numerical Features](#1.7_Numerical_Features) \n",
    "    - [1.7.1 Target Feature](#1.7.1_Target_Feature)\n",
    "- [1.8 Save the data](#1.8_Save_data)\n",
    "- [1.9 Summary](#1.9_Summary)"
   ]
  },
  {
   "cell_type": "markdown",
   "id": "b64f9958",
   "metadata": {},
   "source": [
    "## 1.2 Introduction <a id='1.2_Introduction'></a>"
   ]
  },
  {
   "cell_type": "markdown",
   "id": "6e01b30d",
   "metadata": {},
   "source": [
    "#### Purpose:\n",
    "This notebook focuses on collecting your data, organizing it, and making sure it's well defined.\n",
    "\n",
    "#### **Problem Statement:**\n",
    "Enhance the effectiveness of donor engagement and support for a nonprofit organization by analyzing donor lifetime value, predicting churn, and implementing personalized retention strategies."
   ]
  },
  {
   "cell_type": "markdown",
   "id": "bea32dcf",
   "metadata": {},
   "source": [
    "## 1.3 Importing <a id='1.3_Importing'></a>"
   ]
  },
  {
   "cell_type": "code",
   "execution_count": 1,
   "id": "0108883d",
   "metadata": {},
   "outputs": [],
   "source": [
    "import pandas as pd\n",
    "import numpy as np\n",
    "import matplotlib.pyplot as plt\n",
    "import seaborn as sns\n",
    "from datetime import datetime\n",
    "import os"
   ]
  },
  {
   "cell_type": "markdown",
   "id": "a6dd4825",
   "metadata": {},
   "source": [
    "## 1.4 Loading The Data <a id='1.4_Loading_the_data'></a>"
   ]
  },
  {
   "cell_type": "code",
   "execution_count": 2,
   "id": "a11149e2",
   "metadata": {},
   "outputs": [],
   "source": [
    "# Storing file path in variable and then using pd.read_csv() to load the data as a dataframe into crimeData\n",
    "\n",
    "dataFilePath = \"/Users/username/Development/springboard_main/Capstone Three/Springboard-Capstone-Three/src/data/raw/Donations _ Jan 2015 to Mar 2024.csv\"\n",
    "DonationData = pd.read_csv(dataFilePath, low_memory = False)\n",
    "\n",
    "# Download the data files and then load from where those files are stored\n",
    "# See instructions in data folder of GitHub Repo : Springboard-Capstone-Two"
   ]
  },
  {
   "cell_type": "markdown",
   "id": "01a3dc4e",
   "metadata": {},
   "source": [
    "## 1.5 Preliminary Exploration <a id='1.5_Preliminary_exploration'></a>"
   ]
  },
  {
   "cell_type": "code",
   "execution_count": 3,
   "id": "6cc07723",
   "metadata": {},
   "outputs": [],
   "source": [
    "#DonationData.info()"
   ]
  },
  {
   "cell_type": "code",
   "execution_count": 4,
   "id": "5705f2cf",
   "metadata": {},
   "outputs": [],
   "source": [
    "#DonationData.head(10)"
   ]
  },
  {
   "cell_type": "markdown",
   "id": "4bd46424",
   "metadata": {},
   "source": [
    "##### Initial observations:\n",
    "**Context**:\n",
    "   - `Contact Id`: Unique identifier for each contact.\n",
    "   - `Contact Type`, `Gift Date`, `Amount`, and `Gift Type` give information about the donation.\n",
    "   - `Contact Tags`: Tags associated with the contact - may provide additional characteristics for the donor in question.\n",
    "   - `First Gift Date`: Date of the first donation.\n",
    "   - Contact demographic information: `Contact Primary Gender`, `Contact Primary Age`, `Contact Primary Full Address`, `Contact Primary Address City`, `Contact Primary Address State`, `Contact Social Score`, `Contact Primary Birth Year`, and `Contact Primary Birth Month`\n",
    "   \n",
    "**Missing Values**:\n",
    "   - Most columns have non-null values, but several columns have a significant number of missing values.\n",
    "   - The following have missing values:`Contact Primary Gender`, `Contact Primary Age`, `Notes`, `Contact Primary Full Address`, `First Recurring Gift Date`, `Recurring Gift Amount`, `Check Number`, `Segment Name`, `Campaign Name`, `Contact Primary Address City`, `Contact Primary Address State`, `Contact Social Score`, `Contact Primary Birth Year`, `Contact Primary Birth Month`, and `Selected Age` .\n",
    "\n",
    "**Data Issues**:\n",
    "   - There are a large number of missing values, particularly in `Contact Primary Age`, `Notes`, `Recurring Gift Amount`, `Check Number`, and `Segment Name`.\n",
    "   - Some columns might have inconsistent data types (`Gift Date`, `First Gift Date`, `First Recurring Gift Date` should ideally be datetime instead of object.\n",
    "   - `Contact Primary Gender` and `Contact Primary Age` have very few non-null values, which make them less useful for analysis.\n",
    "\n",
    "**Next Steps**:\n",
    "   - Address missing values through imputation or removal.\n",
    "   - Convert select columns to their appropriate data types.\n",
    "   - Explore relationships between different attributes. \n",
    "   - Apply feature engineering, creating new features from existing ones.\n"
   ]
  },
  {
   "cell_type": "markdown",
   "id": "83669b64",
   "metadata": {},
   "source": [
    "### 1.5.1 Missing Values <a id='1.5.1_Missing_values'></a>"
   ]
  },
  {
   "cell_type": "code",
   "execution_count": 5,
   "id": "48dc56a3",
   "metadata": {},
   "outputs": [],
   "source": [
    "# The number of missing values per column\n",
    "\n",
    "DonationData.isna().sum()\n",
    "DonationDataMissing = pd.DataFrame(DonationData.isna().sum())\n",
    "DonationDataMissing.columns = ['Total # of missing values']"
   ]
  },
  {
   "cell_type": "code",
   "execution_count": 6,
   "id": "79d8696f",
   "metadata": {},
   "outputs": [],
   "source": [
    "# The percentage of missing values per column, sorted from highest to lowest\n",
    "\n",
    "DonationDataMissing['% of missing values'] = DonationData.isna().sum().sort_values(ascending = False)/len(DonationData.index)*100"
   ]
  },
  {
   "cell_type": "code",
   "execution_count": 7,
   "id": "040e1094",
   "metadata": {
    "scrolled": true
   },
   "outputs": [
    {
     "data": {
      "text/html": [
       "<div>\n",
       "<style scoped>\n",
       "    .dataframe tbody tr th:only-of-type {\n",
       "        vertical-align: middle;\n",
       "    }\n",
       "\n",
       "    .dataframe tbody tr th {\n",
       "        vertical-align: top;\n",
       "    }\n",
       "\n",
       "    .dataframe thead th {\n",
       "        text-align: right;\n",
       "    }\n",
       "</style>\n",
       "<table border=\"1\" class=\"dataframe\">\n",
       "  <thead>\n",
       "    <tr style=\"text-align: right;\">\n",
       "      <th></th>\n",
       "      <th>Total # of missing values</th>\n",
       "      <th>% of missing values</th>\n",
       "    </tr>\n",
       "  </thead>\n",
       "  <tbody>\n",
       "    <tr>\n",
       "      <th>Selected Age</th>\n",
       "      <td>17353</td>\n",
       "      <td>99.982715</td>\n",
       "    </tr>\n",
       "    <tr>\n",
       "      <th>Contact Primary Age</th>\n",
       "      <td>17352</td>\n",
       "      <td>99.976953</td>\n",
       "    </tr>\n",
       "    <tr>\n",
       "      <th>Contact Primary Birth Month</th>\n",
       "      <td>17352</td>\n",
       "      <td>99.976953</td>\n",
       "    </tr>\n",
       "    <tr>\n",
       "      <th>Contact Primary Birth Year</th>\n",
       "      <td>17352</td>\n",
       "      <td>99.976953</td>\n",
       "    </tr>\n",
       "    <tr>\n",
       "      <th>Contact Primary Gender</th>\n",
       "      <td>17249</td>\n",
       "      <td>99.383499</td>\n",
       "    </tr>\n",
       "    <tr>\n",
       "      <th>Check Number</th>\n",
       "      <td>15571</td>\n",
       "      <td>89.715372</td>\n",
       "    </tr>\n",
       "    <tr>\n",
       "      <th>Recurring Gift Amount</th>\n",
       "      <td>12028</td>\n",
       "      <td>69.301682</td>\n",
       "    </tr>\n",
       "    <tr>\n",
       "      <th>Notes</th>\n",
       "      <td>11376</td>\n",
       "      <td>65.545056</td>\n",
       "    </tr>\n",
       "    <tr>\n",
       "      <th>Campaign Name</th>\n",
       "      <td>7219</td>\n",
       "      <td>41.593685</td>\n",
       "    </tr>\n",
       "    <tr>\n",
       "      <th>Segment Name</th>\n",
       "      <td>7219</td>\n",
       "      <td>41.593685</td>\n",
       "    </tr>\n",
       "    <tr>\n",
       "      <th>First Recurring Gift Date</th>\n",
       "      <td>6615</td>\n",
       "      <td>38.113621</td>\n",
       "    </tr>\n",
       "    <tr>\n",
       "      <th>Contact Primary Address State</th>\n",
       "      <td>3578</td>\n",
       "      <td>20.615349</td>\n",
       "    </tr>\n",
       "    <tr>\n",
       "      <th>Contact Primary Address City</th>\n",
       "      <td>3469</td>\n",
       "      <td>19.987324</td>\n",
       "    </tr>\n",
       "    <tr>\n",
       "      <th>Contact Primary Full Address</th>\n",
       "      <td>3468</td>\n",
       "      <td>19.981563</td>\n",
       "    </tr>\n",
       "    <tr>\n",
       "      <th>Contact Tags</th>\n",
       "      <td>442</td>\n",
       "      <td>2.546670</td>\n",
       "    </tr>\n",
       "    <tr>\n",
       "      <th>First Gift Date</th>\n",
       "      <td>6</td>\n",
       "      <td>0.034570</td>\n",
       "    </tr>\n",
       "    <tr>\n",
       "      <th>Contact Social Score</th>\n",
       "      <td>2</td>\n",
       "      <td>0.011523</td>\n",
       "    </tr>\n",
       "    <tr>\n",
       "      <th>Gift Type</th>\n",
       "      <td>0</td>\n",
       "      <td>0.000000</td>\n",
       "    </tr>\n",
       "    <tr>\n",
       "      <th>Amount</th>\n",
       "      <td>0</td>\n",
       "      <td>0.000000</td>\n",
       "    </tr>\n",
       "    <tr>\n",
       "      <th>Gift Date</th>\n",
       "      <td>0</td>\n",
       "      <td>0.000000</td>\n",
       "    </tr>\n",
       "    <tr>\n",
       "      <th>Contact Type</th>\n",
       "      <td>0</td>\n",
       "      <td>0.000000</td>\n",
       "    </tr>\n",
       "    <tr>\n",
       "      <th>Contact Id</th>\n",
       "      <td>0</td>\n",
       "      <td>0.000000</td>\n",
       "    </tr>\n",
       "  </tbody>\n",
       "</table>\n",
       "</div>"
      ],
      "text/plain": [
       "                               Total # of missing values  % of missing values\n",
       "Selected Age                                       17353            99.982715\n",
       "Contact Primary Age                                17352            99.976953\n",
       "Contact Primary Birth Month                        17352            99.976953\n",
       "Contact Primary Birth Year                         17352            99.976953\n",
       "Contact Primary Gender                             17249            99.383499\n",
       "Check Number                                       15571            89.715372\n",
       "Recurring Gift Amount                              12028            69.301682\n",
       "Notes                                              11376            65.545056\n",
       "Campaign Name                                       7219            41.593685\n",
       "Segment Name                                        7219            41.593685\n",
       "First Recurring Gift Date                           6615            38.113621\n",
       "Contact Primary Address State                       3578            20.615349\n",
       "Contact Primary Address City                        3469            19.987324\n",
       "Contact Primary Full Address                        3468            19.981563\n",
       "Contact Tags                                         442             2.546670\n",
       "First Gift Date                                        6             0.034570\n",
       "Contact Social Score                                   2             0.011523\n",
       "Gift Type                                              0             0.000000\n",
       "Amount                                                 0             0.000000\n",
       "Gift Date                                              0             0.000000\n",
       "Contact Type                                           0             0.000000\n",
       "Contact Id                                             0             0.000000"
      ]
     },
     "execution_count": 7,
     "metadata": {},
     "output_type": "execute_result"
    }
   ],
   "source": [
    "# Number of missing values and percentages by column, sorted from highest to lowest\n",
    "\n",
    "DonationDataMissing.sort_values(by = \"Total # of missing values\", ascending = False)"
   ]
  },
  {
   "cell_type": "markdown",
   "id": "d1d9cf2c",
   "metadata": {},
   "source": [
    "##### Notes on missing data\n",
    "\n",
    "Handling columns with a high percentage of missing values (Selected Age, Contact Primary Age, Contact Primary Birth Month, Contact Primary Birth Year, Contact Primary Gender, Check Number, Recurring Gift Amount, Notes, Campaign Name, Segment Name, First Recurring Gift Date, Contact Primary Address State, Contact Primary Address City, Contact Primary Full Address, and Contact Tags)\n",
    "\n",
    "\n",
    "Now that we have a clear understanding of the missing values in the dataset, we can proceed with addressing them. Here are some steps you can take:\n",
    "\n",
    "**Handling Missing Values**:\n",
    "   - For columns with a high percentage of missing values (`Selected Age`, `Contact Primary Age`, `Contact Primary Birth Month`, `Contact Primary Birth Year`, `Contact Primary Gender`, `Check Number`, `Recurring Gift Amount`, `Notes`, `Campaign Name`, `Segment Name`, `First Recurring Gift Date`, `Contact Primary Address State`, `Contact Primary Address City`, `Contact Primary Full Address`, and `Contact Tags`), the following options will be considered.\n",
    "     - Imputation, Removal, or Encoding Missingness (in case there is meaning behind why values are missing)."
   ]
  },
  {
   "cell_type": "markdown",
   "id": "0bfe85a3",
   "metadata": {},
   "source": [
    "**Next Steps**\n",
    "\n",
    "- `Selected Age` - Removal, not enough data.\n",
    "- `Contact Primary Age` - Removal, not enough data.\n",
    "- `Contact Primary Birth Month` - Removal, not enough data.\n",
    "- `Contact Primary Birth Year` - Removal, not enough data.\n",
    "- `Contact Primary Gender` - Removal, not enough data.\n",
    "- `Check Number` - Removal, not enough data and not relevant.\n",
    "- `Recurring Gift Amount` - Removal, not relevant & redundant as all gifts are listed\n",
    "- `Notes` - Keep/Review, vectorization may be applied later in the process.\n",
    "- `Campaign Name` - Imputation, missing values would be the general campaign.\n",
    "- `Segment Name` - Imputation, missing values would be the general segment (similar to `Campaign Name`).\n",
    "- `First Recurring Gift Date` - Removal, not relevant & redundant as all gifts are listed\n",
    "- `Contact Primary Address State` - Imputation, Use other address-related values for donor.\n",
    "- `Contact Primary Address City` - Imputation, Use other address-related values for donor.\n",
    "- `Contact Primary Full Address` - Imputation, Use other address-related values for donor.\n",
    "- `Contact Tags` - Encode, multiple values in each element."
   ]
  },
  {
   "cell_type": "markdown",
   "id": "62ddb232",
   "metadata": {},
   "source": [
    "### 1.5.2 Duplicate Values <a id='1.5.2_Duplicate_values'></a>"
   ]
  },
  {
   "cell_type": "code",
   "execution_count": 8,
   "id": "63485391",
   "metadata": {},
   "outputs": [
    {
     "data": {
      "text/plain": [
       "58"
      ]
     },
     "execution_count": 8,
     "metadata": {},
     "output_type": "execute_result"
    }
   ],
   "source": [
    "# Brief look at potential duplicate obeservations\n",
    "# Using .duplicated() and .sum() to find all duplicates, mark them as True, and sum the amount of True's \n",
    "\n",
    "DonationData.duplicated(keep=False).sum()"
   ]
  },
  {
   "cell_type": "markdown",
   "id": "20eb3e1d",
   "metadata": {},
   "source": [
    "- Reviewing full rows for duplicates has pinpointed 58 duplicates."
   ]
  },
  {
   "cell_type": "code",
   "execution_count": 9,
   "id": "55a227fe",
   "metadata": {},
   "outputs": [],
   "source": [
    "# reviewing the rows to confirm this is accurate\n",
    "# subsetting dataframe to show all duplicates \n",
    "duplicates = DonationData[DonationData.duplicated(keep=False)]"
   ]
  },
  {
   "cell_type": "code",
   "execution_count": 10,
   "id": "d5928312",
   "metadata": {},
   "outputs": [],
   "source": [
    "# displaying dataframe to review rows\n",
    "\n",
    "#duplicates"
   ]
  },
  {
   "cell_type": "markdown",
   "id": "6ac4e803",
   "metadata": {},
   "source": [
    "- Completing a quick review of the 58 rows reveals that these are indeed duplicates so they can be dropped."
   ]
  },
  {
   "cell_type": "code",
   "execution_count": 11,
   "id": "a2009f2b",
   "metadata": {},
   "outputs": [],
   "source": [
    "#  drop duplicates\n",
    "DonationDataV01 = DonationData.drop_duplicates()"
   ]
  },
  {
   "cell_type": "code",
   "execution_count": 12,
   "id": "f75e2f34",
   "metadata": {
    "scrolled": true
   },
   "outputs": [
    {
     "data": {
      "text/plain": [
       "29"
      ]
     },
     "execution_count": 12,
     "metadata": {},
     "output_type": "execute_result"
    }
   ],
   "source": [
    "# ensuring that only 29 rows were dropped by subtracting # of rows of adj data from the inital data \n",
    "DonationData.shape[0]-DonationDataV01.shape[0]"
   ]
  },
  {
   "cell_type": "markdown",
   "id": "7d05f6c5",
   "metadata": {},
   "source": [
    "### 1.5.3 Dropping Columns <a id='1.5.3_Dropping_columns'></a>"
   ]
  },
  {
   "cell_type": "code",
   "execution_count": 13,
   "id": "253d1ad3",
   "metadata": {},
   "outputs": [],
   "source": [
    "'''\n",
    "Recall from 1.5 above, the following columns will be dropped due high %'s of missing values:\n",
    "Selected Age, Contact Primary Age, Contact Primary Birth Month, Contact Primary Birth Year, \n",
    "Contact Primary Gender, Recurring Gift Amount, First Recurring Gift Date and Check Number.\n",
    "'''\n",
    "columns_to_drop = ['Selected Age', 'Contact Primary Age', 'Contact Primary Birth Month', \n",
    "                  'Contact Primary Birth Year', 'Contact Primary Gender', 'Check Number',\n",
    "                  'Recurring Gift Amount', 'First Recurring Gift Date']\n",
    "\n",
    "# Drop the specified columns\n",
    "DonationDataV02 = DonationDataV01.drop(columns=columns_to_drop)"
   ]
  },
  {
   "cell_type": "code",
   "execution_count": 14,
   "id": "51807969",
   "metadata": {},
   "outputs": [],
   "source": [
    "#DonationDataV02.info()"
   ]
  },
  {
   "cell_type": "markdown",
   "id": "62112ae0",
   "metadata": {},
   "source": [
    "### 1.5.4 Imputation <a id='1.5.4_Imputation'></a>\n"
   ]
  },
  {
   "cell_type": "code",
   "execution_count": 15,
   "id": "5844413a",
   "metadata": {},
   "outputs": [],
   "source": [
    "'''\n",
    "Recall from 1.5 above, the following columns will be imputed as they contain information from \n",
    "missing and present values: Campaign Name, Segment Name, First Recurring Gift Date, \n",
    "Contact Primary Address State, Contact Primary Address City, Contact Primary Full Address\n",
    "'''\n",
    "\n",
    "# quick look at the columns to be imputed\n",
    "columns_to_impute = ['Campaign Name', 'Segment Name', 'Contact Primary Address State', \n",
    "                     'Contact Primary Address City', 'Contact Primary Full Address']\n",
    "\n",
    "#DonationDataV02.loc[:, columns_to_impute]\n"
   ]
  },
  {
   "cell_type": "code",
   "execution_count": 16,
   "id": "99c39228",
   "metadata": {},
   "outputs": [
    {
     "data": {
      "text/plain": [
       "array(['Default Campaign', nan, 'General Giving', '27372',\n",
       "       'Capital Campaign', 'CSEC Advocacy Course', 'End of Year 2023',\n",
       "       'General Giving 2024'], dtype=object)"
      ]
     },
     "execution_count": 16,
     "metadata": {},
     "output_type": "execute_result"
    }
   ],
   "source": [
    "# Column: Campaign Name\n",
    "\n",
    "DonationDataV02['Campaign Name'].unique()"
   ]
  },
  {
   "cell_type": "markdown",
   "id": "e30a7f74",
   "metadata": {},
   "source": [
    "- 'Default Campaign' and 'General Giving' both describe the same type of donations \n",
    "so 'Default Campaign' will be replaced by 'General Giving'\n",
    "- Missing values and/or miscellaneous values will be replaced with 'General Giving'"
   ]
  },
  {
   "cell_type": "code",
   "execution_count": 17,
   "id": "58ccea27",
   "metadata": {},
   "outputs": [],
   "source": [
    "# Replace values in a chain\n",
    "# Replace all 'Default Campaign' values, missing values, and misc values with 'General Giving' \n",
    "DonationDataV03 = DonationDataV02.copy(deep=True) #deepcopy before adjusting\n",
    "DonationDataV03['Campaign Name'] = DonationDataV02['Campaign Name'].replace('Default Campaign', 'General Giving')\\\n",
    "                                .replace([np.nan, '27372'], 'General Giving')"
   ]
  },
  {
   "cell_type": "code",
   "execution_count": 18,
   "id": "cc7b7a03",
   "metadata": {},
   "outputs": [
    {
     "data": {
      "text/plain": [
       "array(['General Giving', 'Capital Campaign', 'CSEC Advocacy Course',\n",
       "       'End of Year 2023', 'General Giving 2024'], dtype=object)"
      ]
     },
     "execution_count": 18,
     "metadata": {},
     "output_type": "execute_result"
    }
   ],
   "source": [
    "# Verify the unique values after replacement\n",
    "DonationDataV03['Campaign Name'].unique()"
   ]
  },
  {
   "cell_type": "code",
   "execution_count": 19,
   "id": "9c4cd430",
   "metadata": {},
   "outputs": [],
   "source": [
    "# Column: Segment Name\n",
    "#DonationDataV03['Segment Name'].unique()"
   ]
  },
  {
   "cell_type": "markdown",
   "id": "a56cec1a",
   "metadata": {},
   "source": [
    "- The 'DE1017OT' value represents the default/general segment name but the name is not descriptive so it will be replaced with 'General Segment' \n",
    "- 'General Segment' will also replace missing values"
   ]
  },
  {
   "cell_type": "code",
   "execution_count": 20,
   "id": "0b5d1713",
   "metadata": {},
   "outputs": [],
   "source": [
    "# Replace 'DE1017OT' with 'General Segment' and missing values with 'General Segment' in 'Segment Name' column\n",
    "DonationDataV03['Segment Name'].replace({'DE1017OT': 'General Segment', \\\n",
    "                                         np.nan: 'General Segment'}, inplace=True)\n",
    "\n",
    "# Verify the unique values after replacement\n",
    "#DonationDataV03['Segment Name'].unique()"
   ]
  },
  {
   "cell_type": "markdown",
   "id": "67d87280",
   "metadata": {},
   "source": [
    "The following replacements also need to be made for more descriptive values \n",
    "\n",
    "- GE0122OT: EFT\n",
    "- UN1119EM: General Segment\n",
    "- CA0322P2P: Capital Campaign\n",
    "- GE0122WB2: PayPal\n",
    "- GE0122OT1: EFT\n",
    "- GE2023SM: Social Media\n",
    "- EFT/VIrtuous: EFT\n",
    "- CC EFT Donation: EFT\n"
   ]
  },
  {
   "cell_type": "code",
   "execution_count": 21,
   "id": "5f17d498",
   "metadata": {},
   "outputs": [],
   "source": [
    "# Define the replacements\n",
    "replacement_dict = {\n",
    "    'DE1017OT': 'General Segment',\n",
    "    'GE0122OT': 'EFT',\n",
    "    'UN1119EM': 'General Segment',\n",
    "    'CA0322P2P': 'Capital Campaign',\n",
    "    'GE0122WB2': 'PayPal',\n",
    "    'GE0122OT1': 'EFT',\n",
    "    'GE2023SM': 'Social Media',\n",
    "    'EFT/Virtuous': 'EFT',\n",
    "    'CC EFT Donation': 'EFT'\n",
    "}\n",
    "# Replace values in 'Segment Name' column using the dictionary\n",
    "DonationDataV03['Segment Name'].replace(replacement_dict, inplace=True)"
   ]
  },
  {
   "cell_type": "markdown",
   "id": "5e2e96be",
   "metadata": {},
   "source": [
    "Finally, the address columnns will be evaluated and imputation will be applied as needed. "
   ]
  },
  {
   "cell_type": "code",
   "execution_count": 22,
   "id": "142f4609",
   "metadata": {
    "scrolled": true
   },
   "outputs": [
    {
     "name": "stdout",
     "output_type": "stream",
     "text": [
      "<class 'pandas.core.frame.DataFrame'>\n",
      "Int64Index: 17327 entries, 0 to 17355\n",
      "Data columns (total 3 columns):\n",
      " #   Column                         Non-Null Count  Dtype \n",
      "---  ------                         --------------  ----- \n",
      " 0   Contact Primary Address State  13760 non-null  object\n",
      " 1   Contact Primary Address City   13868 non-null  object\n",
      " 2   Contact Primary Full Address   13869 non-null  object\n",
      "dtypes: object(3)\n",
      "memory usage: 541.5+ KB\n"
     ]
    }
   ],
   "source": [
    "# Columns: Contact Primary Address State, Contact Primary Address City, Contact Primary Full Address\n",
    "DonationDataV03.loc[:,['Contact Primary Address State','Contact Primary Address City',\\\n",
    "                       'Contact Primary Full Address']].info()\n"
   ]
  },
  {
   "cell_type": "code",
   "execution_count": 23,
   "id": "e54b0c2d",
   "metadata": {},
   "outputs": [],
   "source": [
    "# Fill missing address values with 'Unknown'\n",
    "\n",
    "DonationDataV03['Contact Primary Full Address'].fillna(value='Unknown', inplace=True)\n",
    "DonationDataV03['Contact Primary Address City'].fillna(value='Unknown', inplace=True)\n",
    "DonationDataV03['Contact Primary Address State'].fillna(value='Unknown', inplace=True)\n"
   ]
  },
  {
   "cell_type": "markdown",
   "id": "c77a15b6",
   "metadata": {},
   "source": [
    "The rest of the missing address-related values were replaced with \"Unknown\""
   ]
  },
  {
   "cell_type": "markdown",
   "id": "6495b776",
   "metadata": {},
   "source": [
    "### 1.5.5 Preliminary Encoding <a id='1.5.5_Encoding'></a>\n"
   ]
  },
  {
   "cell_type": "markdown",
   "id": "09b06bc7",
   "metadata": {},
   "source": [
    "The following features will be reviewed for encoding: \n",
    "- Contact Tags\n",
    "- Notes"
   ]
  },
  {
   "cell_type": "code",
   "execution_count": 24,
   "id": "8723e66d",
   "metadata": {},
   "outputs": [
    {
     "data": {
      "text/plain": [
       "422"
      ]
     },
     "execution_count": 24,
     "metadata": {},
     "output_type": "execute_result"
    }
   ],
   "source": [
    "DonationDataV03['Contact Tags'].nunique()"
   ]
  },
  {
   "cell_type": "code",
   "execution_count": 25,
   "id": "663084aa",
   "metadata": {
    "scrolled": true
   },
   "outputs": [
    {
     "data": {
      "text/plain": [
       "0                     Do not call;Website Email Submit\n",
       "1                     Do not call;Website Email Submit\n",
       "2    Do not call;Website Email Submit;Sustaining Do...\n",
       "3                     Do not call;Website Email Submit\n",
       "4                                                  NaN\n",
       "Name: Contact Tags, dtype: object"
      ]
     },
     "execution_count": 25,
     "metadata": {},
     "output_type": "execute_result"
    }
   ],
   "source": [
    "DonationDataV03['Contact Tags'].head()"
   ]
  },
  {
   "cell_type": "code",
   "execution_count": 26,
   "id": "ccbc1759",
   "metadata": {},
   "outputs": [
    {
     "name": "stdout",
     "output_type": "stream",
     "text": [
      "Value with the most characters: Leila's Contacts;Gala 2023 Table Host;Gala 2023;Website Email Submit;In Kind Donor;Second Chance Prom 2023;Tasya Event Email List;Lapsed Donor\n",
      "Number of characters: 142\n"
     ]
    }
   ],
   "source": [
    "# Initialize variables to store the maximum length and the corresponding value\n",
    "max_length = 0\n",
    "max_value = None\n",
    "\n",
    "# Iterate over each value in the 'Contact Tags' column\n",
    "for value in DonationDataV03['Contact Tags'].dropna():\n",
    "    # Check if the value has more characters than the current maximum\n",
    "    if len(value) > max_length:\n",
    "        max_length = len(value)\n",
    "        max_value = value\n",
    "\n",
    "# Print the value with the most characters\n",
    "print(\"Value with the most characters:\", max_value)\n",
    "print(\"Number of characters:\", max_length)"
   ]
  },
  {
   "cell_type": "code",
   "execution_count": 27,
   "id": "4f9fe390",
   "metadata": {},
   "outputs": [
    {
     "data": {
      "text/plain": [
       "3558"
      ]
     },
     "execution_count": 27,
     "metadata": {},
     "output_type": "execute_result"
    }
   ],
   "source": [
    "DonationDataV03['Notes'].nunique()"
   ]
  },
  {
   "cell_type": "code",
   "execution_count": 28,
   "id": "5a25d6db",
   "metadata": {},
   "outputs": [
    {
     "data": {
      "text/plain": [
       "0        Ticket: 2015 Gala - oid=3111666: Source WePay\n",
       "1    Ticket:  4th Annual Saving Innocence Gala VIP ...\n",
       "2    emailed re: stoppage - it's fixed: WePay: Last...\n",
       "3                       Shopping Cart Payment Received\n",
       "4               Source Check: Last Donation 12/20/2015\n",
       "Name: Notes, dtype: object"
      ]
     },
     "execution_count": 28,
     "metadata": {},
     "output_type": "execute_result"
    }
   ],
   "source": [
    "DonationDataV03['Notes'].head()"
   ]
  },
  {
   "cell_type": "markdown",
   "id": "83b4ef94",
   "metadata": {},
   "source": [
    "There are 423 unique values for 'Contact Tags'and 3559 unique values for 'Notes' so vectorization will be explored in later notebooks. For now, these will be kept as-is."
   ]
  },
  {
   "cell_type": "markdown",
   "id": "70402177",
   "metadata": {},
   "source": [
    "### 1.5.6 Data Type Conversions  <a id='1.5.5_Conversion'></a>"
   ]
  },
  {
   "cell_type": "markdown",
   "id": "76a8e9c2",
   "metadata": {},
   "source": [
    "'Gift Date' and 'First Gift Date' need to be converted into datetime values"
   ]
  },
  {
   "cell_type": "code",
   "execution_count": 29,
   "id": "35197a8f",
   "metadata": {
    "scrolled": true
   },
   "outputs": [
    {
     "data": {
      "text/plain": [
       "str"
      ]
     },
     "execution_count": 29,
     "metadata": {},
     "output_type": "execute_result"
    }
   ],
   "source": [
    "type(DonationDataV03['Gift Date'][0])"
   ]
  },
  {
   "cell_type": "code",
   "execution_count": 30,
   "id": "a1ecfc14",
   "metadata": {
    "scrolled": true
   },
   "outputs": [
    {
     "data": {
      "text/plain": [
       "str"
      ]
     },
     "execution_count": 30,
     "metadata": {},
     "output_type": "execute_result"
    }
   ],
   "source": [
    "type(DonationDataV03['First Gift Date'][0])"
   ]
  },
  {
   "cell_type": "markdown",
   "id": "61729438",
   "metadata": {
    "scrolled": true
   },
   "source": [
    "It looks like the date values are strings so these need to be converted. "
   ]
  },
  {
   "cell_type": "code",
   "execution_count": 31,
   "id": "b114665d",
   "metadata": {},
   "outputs": [],
   "source": [
    "# Convert 'Gift Date' column to datetime\n",
    "DonationDataV03['Gift Date'] = pd.to_datetime(DonationDataV03['Gift Date'])\n",
    "\n",
    "# Convert 'First Gift Date' column to datetime\n",
    "DonationDataV03['First Gift Date'] = pd.to_datetime(DonationDataV03['First Gift Date'])"
   ]
  },
  {
   "cell_type": "markdown",
   "id": "5cb0113e",
   "metadata": {},
   "source": [
    "## 1.6 A Look Into Categorical Features <a id='1.6_Categorical_Features'></a>"
   ]
  },
  {
   "cell_type": "code",
   "execution_count": 32,
   "id": "6feb8f1d",
   "metadata": {
    "scrolled": true
   },
   "outputs": [],
   "source": [
    "DonationDataV03_Categorical_Features = DonationDataV03.select_dtypes(include=['object'])"
   ]
  },
  {
   "cell_type": "code",
   "execution_count": 1,
   "id": "149902dc",
   "metadata": {},
   "outputs": [
    {
     "ename": "NameError",
     "evalue": "name 'DonationDataV03_Categorical_Features' is not defined",
     "output_type": "error",
     "traceback": [
      "\u001b[0;31m---------------------------------------------------------------------------\u001b[0m",
      "\u001b[0;31mNameError\u001b[0m                                 Traceback (most recent call last)",
      "Cell \u001b[0;32mIn[1], line 1\u001b[0m\n\u001b[0;32m----> 1\u001b[0m \u001b[43mDonationDataV03_Categorical_Features\u001b[49m\u001b[38;5;241m.\u001b[39minfo()\n",
      "\u001b[0;31mNameError\u001b[0m: name 'DonationDataV03_Categorical_Features' is not defined"
     ]
    }
   ],
   "source": [
    "DonationDataV03_Categorical_Features.info()"
   ]
  },
  {
   "cell_type": "code",
   "execution_count": 44,
   "id": "65821b59",
   "metadata": {},
   "outputs": [],
   "source": [
    "#DonationDataV03_Categorical_Features.head()"
   ]
  },
  {
   "cell_type": "markdown",
   "id": "d3e0c656",
   "metadata": {},
   "source": [
    "The categorical features hold information about the donor (ie location, contact type, and notes) as well as details on the marketing segment and campaign. "
   ]
  },
  {
   "cell_type": "markdown",
   "id": "8c637a8c",
   "metadata": {},
   "source": [
    "## 1.7 A Look Into Numerical Features <a id='1.7_Numerical_Features'></a>"
   ]
  },
  {
   "cell_type": "code",
   "execution_count": 35,
   "id": "231e7a18",
   "metadata": {
    "scrolled": false
   },
   "outputs": [],
   "source": [
    "DonationDataV03_Numerical_Features = DonationDataV03.select_dtypes(include=['int64','float64'])"
   ]
  },
  {
   "cell_type": "code",
   "execution_count": 36,
   "id": "31594cea",
   "metadata": {
    "scrolled": false
   },
   "outputs": [
    {
     "name": "stdout",
     "output_type": "stream",
     "text": [
      "<class 'pandas.core.frame.DataFrame'>\n",
      "Int64Index: 17327 entries, 0 to 17355\n",
      "Data columns (total 3 columns):\n",
      " #   Column                Non-Null Count  Dtype  \n",
      "---  ------                --------------  -----  \n",
      " 0   Contact Id            17327 non-null  int64  \n",
      " 1   Amount                17327 non-null  float64\n",
      " 2   Contact Social Score  17325 non-null  float64\n",
      "dtypes: float64(2), int64(1)\n",
      "memory usage: 1.0 MB\n"
     ]
    }
   ],
   "source": [
    "DonationDataV03_Numerical_Features.info()"
   ]
  },
  {
   "cell_type": "code",
   "execution_count": 37,
   "id": "61381cfa",
   "metadata": {
    "scrolled": true
   },
   "outputs": [
    {
     "data": {
      "text/html": [
       "<div>\n",
       "<style scoped>\n",
       "    .dataframe tbody tr th:only-of-type {\n",
       "        vertical-align: middle;\n",
       "    }\n",
       "\n",
       "    .dataframe tbody tr th {\n",
       "        vertical-align: top;\n",
       "    }\n",
       "\n",
       "    .dataframe thead th {\n",
       "        text-align: right;\n",
       "    }\n",
       "</style>\n",
       "<table border=\"1\" class=\"dataframe\">\n",
       "  <thead>\n",
       "    <tr style=\"text-align: right;\">\n",
       "      <th></th>\n",
       "      <th>Contact Id</th>\n",
       "      <th>Amount</th>\n",
       "      <th>Contact Social Score</th>\n",
       "    </tr>\n",
       "  </thead>\n",
       "  <tbody>\n",
       "    <tr>\n",
       "      <th>count</th>\n",
       "      <td>17327.000000</td>\n",
       "      <td>17327.000000</td>\n",
       "      <td>17325.000000</td>\n",
       "    </tr>\n",
       "    <tr>\n",
       "      <th>mean</th>\n",
       "      <td>4868.886189</td>\n",
       "      <td>626.942225</td>\n",
       "      <td>67.693853</td>\n",
       "    </tr>\n",
       "    <tr>\n",
       "      <th>std</th>\n",
       "      <td>4090.778636</td>\n",
       "      <td>6058.982527</td>\n",
       "      <td>26.663137</td>\n",
       "    </tr>\n",
       "    <tr>\n",
       "      <th>min</th>\n",
       "      <td>1.000000</td>\n",
       "      <td>-2545.300000</td>\n",
       "      <td>30.000000</td>\n",
       "    </tr>\n",
       "    <tr>\n",
       "      <th>25%</th>\n",
       "      <td>1192.000000</td>\n",
       "      <td>25.000000</td>\n",
       "      <td>33.000000</td>\n",
       "    </tr>\n",
       "    <tr>\n",
       "      <th>50%</th>\n",
       "      <td>3666.000000</td>\n",
       "      <td>50.000000</td>\n",
       "      <td>77.000000</td>\n",
       "    </tr>\n",
       "    <tr>\n",
       "      <th>75%</th>\n",
       "      <td>9398.500000</td>\n",
       "      <td>150.000000</td>\n",
       "      <td>91.000000</td>\n",
       "    </tr>\n",
       "    <tr>\n",
       "      <th>max</th>\n",
       "      <td>12724.000000</td>\n",
       "      <td>400000.000000</td>\n",
       "      <td>99.000000</td>\n",
       "    </tr>\n",
       "  </tbody>\n",
       "</table>\n",
       "</div>"
      ],
      "text/plain": [
       "         Contact Id         Amount  Contact Social Score\n",
       "count  17327.000000   17327.000000          17325.000000\n",
       "mean    4868.886189     626.942225             67.693853\n",
       "std     4090.778636    6058.982527             26.663137\n",
       "min        1.000000   -2545.300000             30.000000\n",
       "25%     1192.000000      25.000000             33.000000\n",
       "50%     3666.000000      50.000000             77.000000\n",
       "75%     9398.500000     150.000000             91.000000\n",
       "max    12724.000000  400000.000000             99.000000"
      ]
     },
     "execution_count": 37,
     "metadata": {},
     "output_type": "execute_result"
    }
   ],
   "source": [
    "DonationDataV03_Numerical_Features.describe()"
   ]
  },
  {
   "cell_type": "markdown",
   "id": "44d1c6ca",
   "metadata": {},
   "source": [
    "Amount is the donation amount and the Contact Social Score is a platform calculated score based on the number of connections the donor has with others (within the CRM)\n",
    "\n",
    "**Note:** There are negative values within the 'Amount' column which were refunds recorded. This would cause issues when calculating the lifetime value since the total donation for some donors would be zero. This will need be resolved before calculating the average donor lifetime value below. "
   ]
  },
  {
   "cell_type": "markdown",
   "id": "d5bd084d",
   "metadata": {},
   "source": [
    "### 1.7.1 Target Feature <a id='1.7.1_Target_Features'></a>\n"
   ]
  },
  {
   "cell_type": "markdown",
   "id": "cb48071c",
   "metadata": {},
   "source": [
    "This project aims to enhance the effectiveness of donor engagement and support for a nonprofit organization by predicting donor lifetime value (LTV) and churn. Donor LTV is calculated as the product of the average donation amount, average donation frequency, and donor lifespan. Churn refers to the rate at which donors cease contributing to the organization.\n",
    "\n",
    "To achieve these objectives, target variables will be derived from the current data. For the analysis, donors will be classified as active if they have made a donation within the last 12 months of March 2024. Active donors are those who have contributed within this timeframe, while inactive donors are those who have not. The reason for this is that there are several annual donors that support the organization. "
   ]
  },
  {
   "cell_type": "code",
   "execution_count": 38,
   "id": "28001eff",
   "metadata": {},
   "outputs": [],
   "source": [
    "DonationDataV04 = DonationDataV03.copy(deep=True) # preparing the new version of the dataframe that will contain the calcuated features"
   ]
  },
  {
   "cell_type": "code",
   "execution_count": 39,
   "id": "5b3d6530",
   "metadata": {},
   "outputs": [],
   "source": [
    "# Creating the churn column\n",
    "\n",
    "# End date is the maximum date in the 'Gift Date' column\n",
    "end_date = DonationDataV04['Gift Date'].max()\n",
    "# Start date for the 12-month period\n",
    "start_date = end_date - pd.DateOffset(months=12)\n",
    "\n",
    "# Filter the DataFrame to include only transactions within the last 12 months\n",
    "active_donors = DonationDataV04[DonationDataV04['Gift Date'] >= start_date]\n",
    "\n",
    "# Get unique active donor IDs\n",
    "active_donor_ids = active_donors['Contact Id'].unique()\n",
    "\n",
    "# Create a column indicating whether each donor has churned (is inactive - 1, is active - 0)\n",
    "DonationDataV04['Churned'] = (~DonationDataV04['Contact Id'].isin(active_donor_ids)).astype(int)"
   ]
  },
  {
   "cell_type": "markdown",
   "id": "d080e5f7",
   "metadata": {},
   "source": [
    "Before calculating the lifetime value, the negative & zero amounts need to be resolved. "
   ]
  },
  {
   "cell_type": "code",
   "execution_count": 52,
   "id": "888c2364",
   "metadata": {},
   "outputs": [],
   "source": [
    "# Moving forward with only the donation amounts greater than 0 \n",
    "DonationDataV05 = DonationDataV04[DonationDataV04['Amount'] > 0]"
   ]
  },
  {
   "cell_type": "code",
   "execution_count": 53,
   "id": "e2ea0400",
   "metadata": {},
   "outputs": [],
   "source": [
    "# Creating the donor lifetime value column\n",
    "\n",
    "# Calculate average donation amount per donor\n",
    "average_donation_amount = DonationDataV05.groupby('Contact Id')['Amount'].mean()\n",
    "\n",
    "# Calculate average donation frequency per donor\n",
    "donation_counts = DonationDataV05.groupby('Contact Id').size()\n",
    "donation_frequency = donation_counts / (DonationDataV05['Gift Date'].max() - DonationDataV05['Gift Date'].min()).days\n",
    "\n",
    "donation_frequency.loc[donation_counts == 1] = 1 #Impute missing values for single-donation donors\n",
    "\n",
    "# Calculate donor lifespan\n",
    "donor_lifespan = (DonationDataV05.groupby('Contact Id')['Gift Date'].max() - DonationDataV05.groupby('Contact Id')['Gift Date'].min()).dt.days\n",
    "donor_lifespan = donor_lifespan.where(donor_lifespan > 0, 1) #Impute missing values for single-donation donors\n",
    "\n",
    "# Calculate donor lifetime value (LTV)\n",
    "donor_ltv = average_donation_amount * donation_frequency * donor_lifespan\n",
    "\n",
    "# Add LTV column to the DataFrame\n",
    "\n",
    "# Create a DataFrame with 'Contact Id' and 'LTV'\n",
    "ltv_df = pd.DataFrame({'Contact Id': donor_ltv.index, 'LTV': donor_ltv.values})\n",
    "\n",
    "# Merge the 'LTV' values back to the original DataFrame\n",
    "DonationDataV05 = DonationDataV05.merge(ltv_df, on='Contact Id', how='left')"
   ]
  },
  {
   "cell_type": "markdown",
   "id": "6013dff5",
   "metadata": {},
   "source": [
    "The dataframe now contains a 'Churned' and 'LTV' target variables."
   ]
  },
  {
   "cell_type": "markdown",
   "id": "cbd79379",
   "metadata": {},
   "source": [
    "## 1.8 Save the data <a id='1.8_Save_data'></a>"
   ]
  },
  {
   "cell_type": "code",
   "execution_count": 48,
   "id": "9a0a354e",
   "metadata": {},
   "outputs": [],
   "source": [
    "DonationDataV05.to_csv('Donations _ Jan 2015 to Mar 2024_R1 .csv')"
   ]
  },
  {
   "cell_type": "markdown",
   "id": "1c5006a3",
   "metadata": {},
   "source": [
    "## 1.9 Summary <a id='1.9_Summary'></a>"
   ]
  },
  {
   "cell_type": "markdown",
   "id": "e7597c13",
   "metadata": {},
   "source": [
    "Several key steps were taken to ensure its quality and suitability for further exploration.\n",
    "\n",
    "Initially, missing values were identified across various columns. Columns with a high percentage of missing values, such as selected age and contact primary age, were insufficient for analysis and removed. For other columns, imputation techniques were applied, filling in missing values where appropriate, such as campaign names and segment names.\n",
    "\n",
    "Duplicate rows were identified and removed. Additionally, columns with redundant or irrelevant information, such as check numbers and first recurring gift dates, were dropped to streamline the dataset.Further adjustments involved data type conversions, particularly converting date columns to datetime values for consistency and ease of analysis.\n",
    "\n",
    "An exploration of categorical and numerical features provided insights into the nature of the data.The target features for analysis, including identifying churned donors and calculating donor lifetime value, were derived from the dataset.\n",
    "\n",
    "Finally, the cleaned and processed dataset was saved, ensuring that the final version of the data after wrangling was preserved for the next steps."
   ]
  }
 ],
 "metadata": {
  "kernelspec": {
   "display_name": "Python 3 (ipykernel)",
   "language": "python",
   "name": "python3"
  },
  "language_info": {
   "codemirror_mode": {
    "name": "ipython",
    "version": 3
   },
   "file_extension": ".py",
   "mimetype": "text/x-python",
   "name": "python",
   "nbconvert_exporter": "python",
   "pygments_lexer": "ipython3",
   "version": "3.10.13"
  }
 },
 "nbformat": 4,
 "nbformat_minor": 5
}
